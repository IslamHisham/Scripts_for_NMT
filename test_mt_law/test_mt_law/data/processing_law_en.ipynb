{
 "cells": [
  {
   "cell_type": "code",
   "execution_count": 1,
   "id": "34d22e48",
   "metadata": {
    "scrolled": true
   },
   "outputs": [],
   "source": [
    "import preprocessing_Ar as Ar\n",
    "\n",
    "def clean_file_ar(filePath):\n",
    "    #apply existing processsing module\n",
    "    Ar.replace_num(filePath)"
   ]
  },
  {
   "cell_type": "code",
   "execution_count": 2,
   "id": "75c7f4ba",
   "metadata": {},
   "outputs": [],
   "source": [
    "import preprocessing_En as En\n",
    "def clean_file_en(filePath):\n",
    "    #apply existing processsing module\n",
    "    En.replace_num(filePath)"
   ]
  },
  {
   "cell_type": "code",
   "execution_count": 3,
   "id": "deb1dcb9",
   "metadata": {},
   "outputs": [],
   "source": [
    "def count_lines(filePath):\n",
    "    num_lines = sum(1 for line in open(filePath))\n",
    "    print(filePath)\n",
    "    print(num_lines)"
   ]
  },
  {
   "cell_type": "code",
   "execution_count": 4,
   "id": "cd4500d2",
   "metadata": {},
   "outputs": [],
   "source": [
    "source_path='/home/aisha/test_mt_law/data/cleaned/source.output'\n",
    "clean_file_en(source_path)"
   ]
  },
  {
   "cell_type": "code",
   "execution_count": 5,
   "id": "5047c6bb",
   "metadata": {},
   "outputs": [],
   "source": [
    "target_path='/home/aisha/test_mt_law/data/cleaned/target.output'\n",
    "clean_file_ar(target_path)"
   ]
  },
  {
   "cell_type": "code",
   "execution_count": null,
   "id": "711f0709",
   "metadata": {},
   "outputs": [],
   "source": [
    "#should check for empty lines and remove them from both files before sentence pair"
   ]
  },
  {
   "cell_type": "code",
   "execution_count": 7,
   "id": "cec224db",
   "metadata": {},
   "outputs": [],
   "source": [
    "def compare(srcFile,tgtFile,newScrPath, newTgtPath):\n",
    "    out_file_src = open(newScrPath, \"x\")\n",
    "    out_file_tgt = open(newTgtPath, \"x\")\n",
    "    counter=0;\n",
    "\n",
    "    with open(srcFile) as f1, open(tgtFile) as f2:\n",
    "        for line1, line2 in zip(f1, f2):\n",
    "            if(line1.strip()==\"\" or line2.strip()==\"\"):\n",
    "                print(\"empty line1\",line1)\n",
    "                print(\"empty line2\",line2)\n",
    "                print(\"counter\",counter)\n",
    "\n",
    "            else:\n",
    "                out_file_src.write(line1)\n",
    "                out_file_tgt.write(line2)\n",
    "            counter+=1\n",
    "    print(\"final counter\",counter)\n",
    "    out_file_tgt.close()\n",
    "    out_file_src.close()"
   ]
  },
  {
   "cell_type": "code",
   "execution_count": 9,
   "id": "b8d03c50",
   "metadata": {},
   "outputs": [
    {
     "name": "stdout",
     "output_type": "stream",
     "text": [
      "empty line1 this cloud services agreement %LBR csa %RBR and applicable attachments and transaction documents %LBR tds %RBR are the complete agreement regarding transactions under this csa %LBR together , the \" agreement \" %RBR under which client may order cloud services .\n",
      "\n",
      "empty line2 \n",
      "\n",
      "counter 975\n",
      "empty line1 attachments typically contain additional terms that apply to similar types of offerings .\n",
      "\n",
      "empty line2 \n",
      "\n",
      "counter 976\n",
      "empty line1 tds , such as service descriptions , order documents or statements of work , contain specific details related to an order for a cloud service and there may be more than one td providing the details of an order .\n",
      "\n",
      "empty line2 \n",
      "\n",
      "counter 977\n",
      "empty line1 in the event of conflict , an attachment prevails over this csa and a td prevails over both the csa and any attachment .\n",
      "\n",
      "empty line2 \n",
      "\n",
      "counter 978\n",
      "empty line1 a cloud service is an ibm branded offering provided by ibm and made available via a network .\n",
      "\n",
      "empty line2 \n",
      "\n",
      "counter 979\n",
      "empty line1 each cloud service is described in an attachment or a td .\n",
      "\n",
      "empty line2 \n",
      "\n",
      "counter 980\n",
      "empty line1 a cloud service may not be used in any jurisdiction for unlawful , obscene , offensive or fraudulent content or activity , such as advocating or causing harm , interfering with or violating the integrity or security of a network or system , evading filters , sending unsolicited , abusive , or deceptive messages , viruses or harmful code , or violating third party rights .\n",
      "\n",
      "empty line2 \n",
      "\n",
      "counter 981\n",
      "empty line1 client may not i %RBR resell direct access to a cloud service to a third party outside client 's enterprise ; or ii %RBR combine cloud services with client 's value add to create a commercially available client branded solution for which client charges a fee .\n",
      "\n",
      "empty line2 \n",
      "\n",
      "counter 982\n",
      "empty line1 content consists of all data , software , and information that client or its authorized users provides , authorizes access to , or inputs to the cloud service .\n",
      "\n",
      "empty line2 \n",
      "\n",
      "counter 983\n",
      "empty line1 use of the cloud service will not affect client 's existing ownership or license rights in such content .\n",
      "\n",
      "empty line2 \n",
      "\n",
      "counter 984\n",
      "empty line1 ibm and its contractors , and subprocessors may access and use the content solely for the purpose of providing and managing the cloud service , unless otherwise described in a td .\n",
      "\n",
      "empty line2 \n",
      "\n",
      "counter 985\n",
      "empty line1 client is responsible for obtaining all necessary rights and permissions to enable , and grants such rights and permissions to , ibm , and its contractors and subprocessors to use , provide , store and process content in the cloud service .\n",
      "\n",
      "empty line2 \n",
      "\n",
      "counter 986\n",
      "empty line1 this includes client making necessary disclosures and obtaining consent , if required , before providing individuals ' information , including personal or other regulated information in such content .\n",
      "\n",
      "empty line2 \n",
      "\n",
      "counter 987\n",
      "empty line1 if any content could be subject to governmental regulation or may require security measures beyond those specified by ibm for an offering , client will not input , provide , or allow such content unless specifically permitted in the terms of the relevant td or unless ibm has otherwise first agreed in writing to implement additional security and other measures .\n",
      "\n",
      "empty line2 \n",
      "\n",
      "counter 988\n",
      "empty line1 upon request by either party , ibm , client or their affiliates will enter into additional agreements as required by law in the prescribed form for the protection of personal or regulated personal data included in content .\n",
      "\n",
      "empty line2 \n",
      "\n",
      "counter 989\n",
      "empty line1 the parties agree %LBR and will ensure that their respective affiliates agree %RBR that such additional agreements will be subject to the terms of the agreement .\n",
      "\n",
      "empty line2 \n",
      "\n",
      "counter 990\n",
      "empty line1 ibm will return or remove content from ibm computing resources upon the expiration or cancellation of the cloud service , or earlier upon client 's request .\n",
      "\n",
      "empty line2 \n",
      "\n",
      "counter 991\n",
      "empty line1 ibm may charge for certain activities performed at client 's request %LBR such as delivering content in a specific format %RBR .\n",
      "\n",
      "empty line2 \n",
      "\n",
      "counter 992\n",
      "empty line1 ibm does not archive content , however some content may remain in cloud service backup files until expiration of such files as governed by ibm 's backup retention practices .\n",
      "\n",
      "empty line2 \n",
      "\n",
      "counter 993\n",
      "empty line1 each cloud service is designed to protect content as described in the agreement .\n",
      "\n",
      "empty line2 \n",
      "\n",
      "counter 994\n",
      "empty line1 ibm 's data security and privacy principles for ibm cloud services %LBR dsp %RBR , at < ~ + : %NUMBER > %WEBSITE\n",
      "\n",
      "empty line2 \n",
      "\n",
      "counter 995\n",
      "empty line1 ibm will treat all content as confidential by not disclosing content except to ibm employees , contractors , and subprocessors , and only to the extent necessary to deliver the cloud service , unless otherwise specified in a td .\n",
      "\n",
      "empty line2 \n",
      "\n",
      "counter 996\n",
      "empty line1 specific security features and functions of a cloud service may be provided in an attachment and tds .\n",
      "\n",
      "empty line2 \n",
      "\n",
      "counter 997\n",
      "empty line1 client is responsible to assess the suitability of each cloud service for client 's intended use and content .\n",
      "\n",
      "empty line2 \n",
      "\n",
      "counter 998\n",
      "empty line1 by using the cloud service , client acknowledges that it meets client 's requirements and processing instructions .\n",
      "\n",
      "empty line2 \n",
      "\n",
      "counter 999\n",
      "final counter 1000\n"
     ]
    }
   ],
   "source": [
    "compare('/home/aisha/test_mt_law/data/cleaned/source.output','/home/aisha/test_mt_law/data/cleaned/target.output','/home/aisha/test_mt_law/data/cleaned/source_cleaned.output','/home/aisha/test_mt_law/data/cleaned/target_cleaned.output')"
   ]
  },
  {
   "cell_type": "code",
   "execution_count": null,
   "id": "d0a7a2ae",
   "metadata": {},
   "outputs": [],
   "source": []
  }
 ],
 "metadata": {
  "kernelspec": {
   "display_name": "Python 3",
   "language": "python",
   "name": "python3"
  },
  "language_info": {
   "codemirror_mode": {
    "name": "ipython",
    "version": 3
   },
   "file_extension": ".py",
   "mimetype": "text/x-python",
   "name": "python",
   "nbconvert_exporter": "python",
   "pygments_lexer": "ipython3",
   "version": "3.8.0"
  }
 },
 "nbformat": 4,
 "nbformat_minor": 5
}
